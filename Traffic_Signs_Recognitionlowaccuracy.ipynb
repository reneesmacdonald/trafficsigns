{
 "cells": [
  {
   "cell_type": "markdown",
   "metadata": {},
   "source": [
    "# Self-Driving Car Engineer Nanodegree\n",
    "\n",
    "## Deep Learning\n",
    "\n",
    "## Project: Build a Traffic Sign Recognition Classifier\n",
    "\n",
    "In this notebook, a template is provided for you to implement your functionality in stages which is required to successfully complete this project. If additional code is required that cannot be included in the notebook, be sure that the Python code is successfully imported and included in your submission, if necessary. Sections that begin with **'Implementation'** in the header indicate where you should begin your implementation for your project. Note that some sections of implementation are optional, and will be marked with **'Optional'** in the header.\n",
    "\n",
    "In addition to implementing code, there will be questions that you must answer which relate to the project and your implementation. Each section where you will answer a question is preceded by a **'Question'** header. Carefully read each question and provide thorough answers in the following text boxes that begin with **'Answer:'**. Your project submission will be evaluated based on your answers to each of the questions and the implementation you provide.\n",
    "\n",
    ">**Note:** Code and Markdown cells can be executed using the **Shift + Enter** keyboard shortcut. In addition, Markdown cells can be edited by typically double-clicking the cell to enter edit mode."
   ]
  },
  {
   "cell_type": "markdown",
   "metadata": {},
   "source": [
    "---\n",
    "\n",
    "## Step 1: Dataset Exploration\n",
    "\n",
    "Visualize the German Traffic Signs Dataset. This is open ended, some suggestions include: plotting traffic signs images, plotting the count of each sign, etc. Be creative!\n",
    "\n",
    "\n",
    "The pickled data is a dictionary with 4 key/value pairs:\n",
    "\n",
    "- features -> the images pixel values, (width, height, channels)\n",
    "- labels -> the label of the traffic sign\n",
    "- sizes -> the original width and height of the image, (width, height)\n",
    "- coords -> coordinates of a bounding box around the sign in the image, (x1, y1, x2, y2)"
   ]
  },
  {
   "cell_type": "code",
   "execution_count": 2,
   "metadata": {
    "collapsed": true
   },
   "outputs": [],
   "source": [
    "from sklearn.preprocessing import LabelBinarizer\n",
    "import numpy as np\n",
    "from sklearn.model_selection import train_test_split\n",
    "import matplotlib.pyplot as plt"
   ]
  },
  {
   "cell_type": "code",
   "execution_count": 3,
   "metadata": {
    "collapsed": false,
    "scrolled": true
   },
   "outputs": [
    {
     "name": "stdout",
     "output_type": "stream",
     "text": [
      "(39209, 32, 32, 3)\n",
      "(12630, 32, 32, 3)\n",
      "(39209,)\n",
      "(12630,)\n"
     ]
    }
   ],
   "source": [
    "# Load pickled data\n",
    "import pickle\n",
    "\n",
    "\n",
    "# TODO: fill this in based on where you saved the training and testing data\n",
    "training_file = 'train.p'\n",
    "testing_file = 'test.p'\n",
    "\n",
    "with open(training_file, mode='rb') as f:\n",
    "    train = pickle.load(f)\n",
    "with open(testing_file, mode='rb') as f:\n",
    "    test = pickle.load(f)\n",
    "    \n",
    "X_train, y_train = train['features'], train['labels']\n",
    "X_test, y_test = test['features'], test['labels']\n",
    "print (X_train.shape)\n",
    "print (X_test.shape)\n",
    "print (y_train.shape)\n",
    "print (y_test.shape)\n"
   ]
  },
  {
   "cell_type": "code",
   "execution_count": 4,
   "metadata": {
    "collapsed": false
   },
   "outputs": [
    {
     "name": "stdout",
     "output_type": "stream",
     "text": [
      "Number of training examples = 550\n",
      "Number of testing examples = 100\n",
      "Image data shape = Tensor(\"Placeholder:0\", shape=(?, 1024), dtype=float32)\n",
      "Number of classes = 43\n"
     ]
    }
   ],
   "source": [
    "### To start off let's do a basic data summary.\n",
    "import tensorflow as tf\n",
    "\n",
    "# TODO: number of training examples\n",
    "n_train = 550\n",
    "\n",
    "# TODO: number of testing examples\n",
    "n_test = 100\n",
    "\n",
    "# TODO: what's the shape of an image?\n",
    "image_shape = tf.placeholder(tf.float32, [None, 1024])\n",
    "\n",
    "# TODO: how many classes are in the dataset\n",
    "# 43 because 43 signs\n",
    "n_classes = 43\n",
    "\n",
    "print(\"Number of training examples =\", n_train)\n",
    "print(\"Number of testing examples =\", n_test)\n",
    "print(\"Image data shape =\", image_shape)\n",
    "print(\"Number of classes =\", n_classes)"
   ]
  },
  {
   "cell_type": "code",
   "execution_count": 5,
   "metadata": {
    "collapsed": false
   },
   "outputs": [
    {
     "name": "stdout",
     "output_type": "stream",
     "text": [
      "(39209, 3072)\n",
      "(39209,)\n",
      "(12630, 3072)\n",
      "(12630,)\n"
     ]
    }
   ],
   "source": [
    "# Flatten the images for greyscale\n",
    "#print (X_train.shape)\n",
    "#print (y_train.shape)\n",
    "#print (X_test.shape)\n",
    "#print (y_test.shape)\n",
    "\n",
    "X_train = X_train.reshape(39209, 32*32*3)\n",
    "X_test = X_test.reshape(12630, 32*32 *3)\n",
    "\n",
    "print (X_train.shape)\n",
    "print (y_train.shape)\n",
    "print (X_test.shape)\n",
    "\n",
    "print (y_test.shape)"
   ]
  },
  {
   "cell_type": "code",
   "execution_count": 6,
   "metadata": {
    "collapsed": false
   },
   "outputs": [
    {
     "name": "stdout",
     "output_type": "stream",
     "text": [
      "Tests passed!\n"
     ]
    }
   ],
   "source": [
    "# Implement Min-Max scaling for greyscale image data\n",
    "def normalize_greyscale(image_data):\n",
    "    \n",
    "    a = 0.1\n",
    "    b = 0.9\n",
    "    Xmin = 0\n",
    "    X = image_data\n",
    "    Xmax = 255\n",
    "    return 0.1 + ((X-Xmin)*(b-a)/(Xmax - Xmin))\n",
    "\n",
    "train_features = normalize_greyscale(X_train)\n",
    "test_features = normalize_greyscale(X_test)\n",
    "is_features_normal = True\n",
    "\n",
    "print ('Tests passed!')"
   ]
  },
  {
   "cell_type": "code",
   "execution_count": 7,
   "metadata": {
    "collapsed": false
   },
   "outputs": [
    {
     "name": "stdout",
     "output_type": "stream",
     "text": [
      "Labels One-Hot Encoded\n"
     ]
    }
   ],
   "source": [
    "# Turn labels into numbers and apply One-Hot Encoding\n",
    "encoder = LabelBinarizer()\n",
    "encoder.fit(y_train)\n",
    "train_labels = encoder.transform(y_train)\n",
    "test_labels = encoder.transform(y_test)\n",
    "\n",
    "# Change to float32, so that it can be multiplied against the features in TensorFlow which are float32\n",
    "train_labels = train_labels.astype(np.float32)\n",
    "test_labels = test_labels.astype(np.float32)\n",
    "is_labels_encod = True\n",
    "\n",
    "print ('Labels One-Hot Encoded')"
   ]
  },
  {
   "cell_type": "code",
   "execution_count": 8,
   "metadata": {
    "collapsed": false,
    "scrolled": true
   },
   "outputs": [
    {
     "name": "stdout",
     "output_type": "stream",
     "text": [
      "Training features and labels randomized and split\n",
      "(37248, 3072)\n",
      "(37248, 43)\n",
      "(37248, 3072)\n",
      "(1961, 3072)\n"
     ]
    }
   ],
   "source": [
    "# Get randomized datasets for training and validation\n",
    "\n",
    "train_features, valid_features, train_labels, valid_labels = train_test_split(\n",
    "    train_features,\n",
    "    train_labels,\n",
    "    test_size = 0.05,\n",
    "    random_state = 832289)\n",
    "\n",
    "print ('Training features and labels randomized and split')\n",
    "print (train_features.shape)\n",
    "print (train_labels.shape)\n",
    "train_features = train_features.reshape(train_features.shape[0], 32*32*3)\n",
    "print (train_features.shape)\n",
    "print (valid_features.shape)"
   ]
  },
  {
   "cell_type": "code",
   "execution_count": null,
   "metadata": {
    "collapsed": true
   },
   "outputs": [],
   "source": []
  },
  {
   "cell_type": "code",
   "execution_count": 9,
   "metadata": {
    "collapsed": true
   },
   "outputs": [],
   "source": [
    "### Data exploration visualization goes here.\n",
    "### Feel free to use as many code cells as needed."
   ]
  },
  {
   "cell_type": "markdown",
   "metadata": {},
   "source": [
    "----\n",
    "\n",
    "## Step 2: Design and Test a Model Architecture\n",
    "\n",
    "Design and implement a deep learning model that learns to recognize traffic signs. Train and test your model on the [German Traffic Sign Dataset](http://benchmark.ini.rub.de/?section=gtsrb&subsection=dataset).\n",
    "\n",
    "There are various aspects to consider when thinking about this problem:\n",
    "\n",
    "- Your model can be derived from a deep feedforward net or a deep convolutional network.\n",
    "- Play around preprocessing techniques (normalization, rgb to grayscale, etc)\n",
    "- Number of examples per label (some have more than others).\n",
    "- Generate fake data.\n",
    "\n",
    "Here is an example of a [published baseline model on this problem](http://yann.lecun.com/exdb/publis/pdf/sermanet-ijcnn-11.pdf). It's not required to be familiar with the approach used in the paper but, it's good practice to try to read papers like these."
   ]
  },
  {
   "cell_type": "markdown",
   "metadata": {},
   "source": [
    "### Implementation\n",
    "\n",
    "Use the code cell (or multiple code cells, if necessary) to implement the first step of your project. Once you have completed your implementation and are satisfied with the results, be sure to thoroughly answer the questions that follow."
   ]
  },
  {
   "cell_type": "code",
   "execution_count": 10,
   "metadata": {
    "collapsed": false,
    "scrolled": true
   },
   "outputs": [
    {
     "name": "stdout",
     "output_type": "stream",
     "text": [
      "37248\n",
      "37248\n",
      "Tensor(\"Placeholder_1:0\", shape=(?, 3072), dtype=float32)\n",
      "Tensor(\"Placeholder_2:0\", shape=(?, 43), dtype=float32)\n",
      "prediction  Tensor(\"Softmax:0\", shape=(?, 43), dtype=float32)\n",
      "cross entropy Tensor(\"Neg:0\", shape=(?,), dtype=float32)\n",
      "loss  Tensor(\"Mean:0\", shape=(), dtype=float32)\n",
      "Tests passed\n"
     ]
    }
   ],
   "source": [
    "### Preprocess the data here.\n",
    "### Feel free to use as many code cells as needed.\n",
    "import tensorflow as tf\n",
    "\n",
    "features_count = train_features.shape[1]\n",
    "#features_count = 3072\n",
    "\n",
    "#labels_count = 43\n",
    "labels_count = train_labels.shape[1]\n",
    "\n",
    "#print (train_features.shape[0])\n",
    "#print (train_labels.shape[0])\n",
    "\n",
    "features = tf.placeholder(tf.float32, [None, train_features.shape[1]])\n",
    "labels = tf.placeholder(tf.float32, [None, train_labels.shape[1]])\n",
    "\n",
    "\n",
    "print (train_features.shape[0])\n",
    "print (train_labels.shape[0])\n",
    "\n",
    "#features = tf.placeholder(tf.float32)\n",
    "#labels = tf.placeholder(tf.float32)\n",
    "\n",
    "weights = tf.Variable(tf.truncated_normal((features_count, labels_count)))\n",
    "biases = tf.Variable(tf.zeros(labels_count))\n",
    "\n",
    "print (features)\n",
    "print (labels)\n",
    "\n",
    "\n",
    "\n",
    "train_dict = {features: train_features, labels: train_labels}\n",
    "valid_dict = {features: valid_features, labels: valid_labels}\n",
    "test_dict = {features: test_features, labels: test_labels}\n",
    "#train_dict = {features: X_train, labels: y_train}\n",
    "#test_dict = {features: X_test, labels: y_test}\n",
    "\n",
    "\n",
    "#Linear Function WX + b\n",
    "logits = tf.matmul(features, weights) + biases\n",
    "\n",
    "prediction = tf.nn.softmax(logits)\n",
    "\n",
    "print ('prediction ', prediction)\n",
    "\n",
    "# Cross entropy commented out to use Vivek's code \n",
    "#cross_entropy = -tf.reduce_sum(labels * tf.log(prediction), reduction_indices =1)\n",
    "#print (\"cross entropy\", cross_entropy)\n",
    "#tf.Print(cross_entropy, [cross_entropy])\n",
    "\n",
    "cross_entropy = tf.reduce_mean(-tf.reduce_sum(y_ * tf.log(tf.clip_by_value(y_conv,1e-10,1.0)), \n",
    "                                              reduction_indices=[1]))\n",
    "\n",
    "#Training loss\n",
    "loss = tf.reduce_mean(cross_entropy)\n",
    "print (\"loss \", loss)\n",
    "\n",
    "# Create an operation that initializes all variables\n",
    "init = tf.initialize_all_variables()\n",
    "\n",
    "# Test Cases\n",
    "with tf.Session() as session:\n",
    "    session.run(init)\n",
    "    session.run(loss, feed_dict = train_dict)\n",
    "    session.run(loss, feed_dict = test_dict)\n",
    "    biases_data = session.run(biases)\n",
    "    \n",
    "assert not np.count_nonzero(biases_data), 'biases must be zeroes'\n",
    "\n",
    "print ('Tests passed')"
   ]
  },
  {
   "cell_type": "code",
   "execution_count": 11,
   "metadata": {
    "collapsed": false
   },
   "outputs": [
    {
     "name": "stdout",
     "output_type": "stream",
     "text": [
      "is_correct_prediction Tensor(\"Equal:0\", shape=(?,), dtype=bool)\n",
      "accuracy Tensor(\"Mean_1:0\", shape=(), dtype=float32)\n",
      "Accuracy function created\n"
     ]
    }
   ],
   "source": [
    "# Determine if the predictions are correct\n",
    "is_correct_prediction = tf.equal(tf.argmax(prediction, 1), tf.argmax(labels, 1))\n",
    "print ('is_correct_prediction', is_correct_prediction)\n",
    "#Calculate the accuracy of the predictions\n",
    "accuracy = tf.reduce_mean(tf.cast(is_correct_prediction, tf.float32))\n",
    "print ('accuracy', accuracy)\n",
    "print('Accuracy function created')"
   ]
  },
  {
   "cell_type": "code",
   "execution_count": null,
   "metadata": {
    "collapsed": true
   },
   "outputs": [],
   "source": []
  },
  {
   "cell_type": "code",
   "execution_count": 19,
   "metadata": {
    "collapsed": false,
    "scrolled": true
   },
   "outputs": [
    {
     "name": "stderr",
     "output_type": "stream",
     "text": [
      "Epoch  1/15:   9%|▉         | 35/373 [00:01<03:38,  1.55batches/s]"
     ]
    },
    {
     "name": "stdout",
     "output_type": "stream",
     "text": [
      "training accuracy at 0.005288874730467796\n",
      "Validation accuracy at 0.00662927096709609\n"
     ]
    },
    {
     "name": "stderr",
     "output_type": "stream",
     "text": [
      "Epoch  1/15:  23%|██▎       | 85/373 [00:02<01:34,  3.04batches/s]"
     ]
    },
    {
     "name": "stdout",
     "output_type": "stream",
     "text": [
      "training accuracy at 0.005288874730467796\n",
      "Validation accuracy at 0.00662927096709609\n"
     ]
    },
    {
     "name": "stderr",
     "output_type": "stream",
     "text": [
      "Epoch  1/15:  36%|███▌      | 134/373 [00:02<00:41,  5.77batches/s]"
     ]
    },
    {
     "name": "stdout",
     "output_type": "stream",
     "text": [
      "training accuracy at 0.005288874730467796\n",
      "Validation accuracy at 0.00662927096709609\n"
     ]
    },
    {
     "name": "stderr",
     "output_type": "stream",
     "text": [
      "Epoch  1/15:  50%|████▉     | 186/373 [00:03<00:17, 10.43batches/s]"
     ]
    },
    {
     "name": "stdout",
     "output_type": "stream",
     "text": [
      "training accuracy at 0.005288874730467796\n",
      "Validation accuracy at 0.00662927096709609\n"
     ]
    },
    {
     "name": "stderr",
     "output_type": "stream",
     "text": [
      "Epoch  1/15:  64%|██████▍   | 239/373 [00:04<00:07, 17.49batches/s]"
     ]
    },
    {
     "name": "stdout",
     "output_type": "stream",
     "text": [
      "training accuracy at 0.005288874730467796\n",
      "Validation accuracy at 0.00662927096709609\n"
     ]
    },
    {
     "name": "stderr",
     "output_type": "stream",
     "text": [
      "Epoch  1/15:  79%|███████▊  | 293/373 [00:05<00:03, 26.29batches/s]"
     ]
    },
    {
     "name": "stdout",
     "output_type": "stream",
     "text": [
      "training accuracy at 0.005288874730467796\n",
      "Validation accuracy at 0.00662927096709609\n"
     ]
    },
    {
     "name": "stderr",
     "output_type": "stream",
     "text": [
      "Epoch  1/15:  94%|█████████▎| 349/373 [00:06<00:00, 34.21batches/s]"
     ]
    },
    {
     "name": "stdout",
     "output_type": "stream",
     "text": [
      "training accuracy at 0.005288874730467796\n",
      "Validation accuracy at 0.00662927096709609\n"
     ]
    },
    {
     "name": "stderr",
     "output_type": "stream",
     "text": [
      "Epoch  1/15: 100%|██████████| 373/373 [00:07<00:00, 46.73batches/s]\n",
      "Epoch  2/15:   0%|          | 0/373 [00:00<?, ?batches/s]"
     ]
    },
    {
     "name": "stdout",
     "output_type": "stream",
     "text": [
      "training accuracy at 0.005288874730467796\n",
      "Validation accuracy at 0.00662927096709609\n"
     ]
    },
    {
     "name": "stderr",
     "output_type": "stream",
     "text": [
      "Epoch  2/15:   9%|▉         | 33/373 [00:01<03:40,  1.54batches/s]"
     ]
    },
    {
     "name": "stdout",
     "output_type": "stream",
     "text": [
      "training accuracy at 0.005288874730467796\n",
      "Validation accuracy at 0.00662927096709609\n"
     ]
    },
    {
     "name": "stderr",
     "output_type": "stream",
     "text": [
      "Epoch  2/15:  23%|██▎       | 85/373 [00:02<01:34,  3.04batches/s]"
     ]
    },
    {
     "name": "stdout",
     "output_type": "stream",
     "text": [
      "training accuracy at 0.005288874730467796\n",
      "Validation accuracy at 0.00662927096709609\n"
     ]
    },
    {
     "name": "stderr",
     "output_type": "stream",
     "text": [
      "Epoch  2/15:  36%|███▋      | 136/373 [00:03<00:41,  5.74batches/s]"
     ]
    },
    {
     "name": "stdout",
     "output_type": "stream",
     "text": [
      "training accuracy at 0.005288874730467796\n",
      "Validation accuracy at 0.00662927096709609\n"
     ]
    },
    {
     "name": "stderr",
     "output_type": "stream",
     "text": [
      "Epoch  2/15:  50%|█████     | 188/373 [00:04<00:17, 10.37batches/s]"
     ]
    },
    {
     "name": "stdout",
     "output_type": "stream",
     "text": [
      "training accuracy at 0.005288874730467796\n",
      "Validation accuracy at 0.00662927096709609\n"
     ]
    },
    {
     "name": "stderr",
     "output_type": "stream",
     "text": [
      "Epoch  2/15:  65%|██████▌   | 243/373 [00:05<00:07, 17.26batches/s]"
     ]
    },
    {
     "name": "stdout",
     "output_type": "stream",
     "text": [
      "training accuracy at 0.005288874730467796\n",
      "Validation accuracy at 0.00662927096709609\n"
     ]
    },
    {
     "name": "stderr",
     "output_type": "stream",
     "text": [
      "Epoch  2/15:  79%|███████▉  | 296/373 [00:06<00:02, 25.70batches/s]"
     ]
    },
    {
     "name": "stdout",
     "output_type": "stream",
     "text": [
      "training accuracy at 0.005288874730467796\n",
      "Validation accuracy at 0.00662927096709609\n"
     ]
    },
    {
     "name": "stderr",
     "output_type": "stream",
     "text": [
      "Epoch  2/15:  93%|█████████▎| 348/373 [00:07<00:00, 33.13batches/s]"
     ]
    },
    {
     "name": "stdout",
     "output_type": "stream",
     "text": [
      "training accuracy at 0.005288874730467796\n",
      "Validation accuracy at 0.00662927096709609\n"
     ]
    },
    {
     "name": "stderr",
     "output_type": "stream",
     "text": [
      "Epoch  2/15: 100%|██████████| 373/373 [00:08<00:00, 45.12batches/s]\n",
      "Epoch  3/15:   0%|          | 0/373 [00:00<?, ?batches/s]"
     ]
    },
    {
     "name": "stdout",
     "output_type": "stream",
     "text": [
      "training accuracy at 0.005288874730467796\n",
      "Validation accuracy at 0.00662927096709609\n"
     ]
    },
    {
     "name": "stderr",
     "output_type": "stream",
     "text": [
      "Epoch  3/15:   9%|▉         | 35/373 [00:01<03:44,  1.50batches/s]"
     ]
    },
    {
     "name": "stdout",
     "output_type": "stream",
     "text": [
      "training accuracy at 0.005288874730467796\n",
      "Validation accuracy at 0.00662927096709609\n"
     ]
    },
    {
     "name": "stderr",
     "output_type": "stream",
     "text": [
      "Epoch  3/15:  23%|██▎       | 85/373 [00:02<01:37,  2.95batches/s]"
     ]
    },
    {
     "name": "stdout",
     "output_type": "stream",
     "text": [
      "training accuracy at 0.005288874730467796\n",
      "Validation accuracy at 0.00662927096709609\n"
     ]
    },
    {
     "name": "stderr",
     "output_type": "stream",
     "text": [
      "Epoch  3/15:  36%|███▋      | 136/373 [00:03<00:42,  5.61batches/s]"
     ]
    },
    {
     "name": "stdout",
     "output_type": "stream",
     "text": [
      "training accuracy at 0.005288874730467796\n",
      "Validation accuracy at 0.00662927096709609\n"
     ]
    },
    {
     "name": "stderr",
     "output_type": "stream",
     "text": [
      "Epoch  3/15:  51%|█████     | 189/373 [00:03<00:17, 10.23batches/s]"
     ]
    },
    {
     "name": "stdout",
     "output_type": "stream",
     "text": [
      "training accuracy at 0.005288874730467796\n",
      "Validation accuracy at 0.00662927096709609\n"
     ]
    },
    {
     "name": "stderr",
     "output_type": "stream",
     "text": [
      "Epoch  3/15:  65%|██████▌   | 244/373 [00:04<00:07, 17.27batches/s]"
     ]
    },
    {
     "name": "stdout",
     "output_type": "stream",
     "text": [
      "training accuracy at 0.005288874730467796\n",
      "Validation accuracy at 0.00662927096709609\n"
     ]
    },
    {
     "name": "stderr",
     "output_type": "stream",
     "text": [
      "Epoch  3/15:  80%|████████  | 300/373 [00:05<00:02, 26.21batches/s]"
     ]
    },
    {
     "name": "stdout",
     "output_type": "stream",
     "text": [
      "training accuracy at 0.005288874730467796\n",
      "Validation accuracy at 0.00662927096709609\n"
     ]
    },
    {
     "name": "stderr",
     "output_type": "stream",
     "text": [
      "\r",
      "Epoch  3/15:  86%|████████▌ | 321/373 [00:06<00:02, 25.21batches/s]"
     ]
    },
    {
     "name": "stdout",
     "output_type": "stream",
     "text": [
      "training accuracy at 0.005288874730467796\n",
      "Validation accuracy at 0.00662927096709609\n"
     ]
    },
    {
     "name": "stderr",
     "output_type": "stream",
     "text": [
      "Epoch  3/15: 100%|██████████| 373/373 [00:07<00:00, 47.60batches/s]\n",
      "Epoch  4/15:   0%|          | 0/373 [00:00<?, ?batches/s]"
     ]
    },
    {
     "name": "stdout",
     "output_type": "stream",
     "text": [
      "training accuracy at 0.005288874730467796\n",
      "Validation accuracy at 0.00662927096709609\n"
     ]
    },
    {
     "name": "stderr",
     "output_type": "stream",
     "text": [
      "Epoch  4/15:   8%|▊         | 31/373 [00:00<03:17,  1.73batches/s]"
     ]
    },
    {
     "name": "stdout",
     "output_type": "stream",
     "text": [
      "training accuracy at 0.005288874730467796\n",
      "Validation accuracy at 0.00662927096709609\n"
     ]
    },
    {
     "name": "stderr",
     "output_type": "stream",
     "text": [
      "Epoch  4/15:  23%|██▎       | 85/373 [00:01<01:24,  3.41batches/s]"
     ]
    },
    {
     "name": "stdout",
     "output_type": "stream",
     "text": [
      "training accuracy at 0.005288874730467796\n",
      "Validation accuracy at 0.00662927096709609\n"
     ]
    },
    {
     "name": "stderr",
     "output_type": "stream",
     "text": [
      "Epoch  4/15:  36%|███▋      | 136/373 [00:02<00:36,  6.43batches/s]"
     ]
    },
    {
     "name": "stdout",
     "output_type": "stream",
     "text": [
      "training accuracy at 0.005288874730467796\n",
      "Validation accuracy at 0.00662927096709609\n"
     ]
    },
    {
     "name": "stderr",
     "output_type": "stream",
     "text": [
      "Epoch  4/15:  51%|█████     | 190/373 [00:03<00:15, 11.51batches/s]"
     ]
    },
    {
     "name": "stdout",
     "output_type": "stream",
     "text": [
      "training accuracy at 0.005288874730467796\n",
      "Validation accuracy at 0.00662927096709609\n"
     ]
    },
    {
     "name": "stderr",
     "output_type": "stream",
     "text": [
      "Epoch  4/15:  66%|██████▌   | 245/373 [00:04<00:06, 18.95batches/s]"
     ]
    },
    {
     "name": "stdout",
     "output_type": "stream",
     "text": [
      "training accuracy at 0.005288874730467796\n",
      "Validation accuracy at 0.00662927096709609\n"
     ]
    },
    {
     "name": "stderr",
     "output_type": "stream",
     "text": [
      "\r",
      "Epoch  4/15:  71%|███████▏  | 266/373 [00:05<00:05, 20.11batches/s]"
     ]
    },
    {
     "name": "stdout",
     "output_type": "stream",
     "text": [
      "training accuracy at 0.005288874730467796\n",
      "Validation accuracy at 0.00662927096709609\n"
     ]
    },
    {
     "name": "stderr",
     "output_type": "stream",
     "text": [
      "Epoch  4/15:  90%|████████▉ | 335/373 [00:06<00:01, 32.35batches/s]"
     ]
    },
    {
     "name": "stdout",
     "output_type": "stream",
     "text": [
      "training accuracy at 0.005288874730467796\n",
      "Validation accuracy at 0.00662927096709609\n"
     ]
    },
    {
     "name": "stderr",
     "output_type": "stream",
     "text": [
      "Epoch  4/15: 100%|██████████| 373/373 [00:07<00:00, 48.47batches/s]\n",
      "Epoch  5/15:   0%|          | 0/373 [00:00<?, ?batches/s]"
     ]
    },
    {
     "name": "stdout",
     "output_type": "stream",
     "text": [
      "training accuracy at 0.005288874730467796\n",
      "Validation accuracy at 0.00662927096709609\n"
     ]
    },
    {
     "name": "stderr",
     "output_type": "stream",
     "text": [
      "Epoch  5/15:   9%|▉         | 35/373 [00:00<03:14,  1.74batches/s]"
     ]
    },
    {
     "name": "stdout",
     "output_type": "stream",
     "text": [
      "training accuracy at 0.005288874730467796\n",
      "Validation accuracy at 0.00662927096709609\n"
     ]
    },
    {
     "name": "stderr",
     "output_type": "stream",
     "text": [
      "Epoch  5/15:  23%|██▎       | 85/373 [00:01<01:24,  3.40batches/s]"
     ]
    },
    {
     "name": "stdout",
     "output_type": "stream",
     "text": [
      "training accuracy at 0.005288874730467796\n",
      "Validation accuracy at 0.00662927096709609\n"
     ]
    },
    {
     "name": "stderr",
     "output_type": "stream",
     "text": [
      "Epoch  5/15:  36%|███▋      | 136/373 [00:02<00:37,  6.38batches/s]"
     ]
    },
    {
     "name": "stdout",
     "output_type": "stream",
     "text": [
      "training accuracy at 0.005288874730467796\n",
      "Validation accuracy at 0.00662927096709609\n"
     ]
    },
    {
     "name": "stderr",
     "output_type": "stream",
     "text": [
      "Epoch  5/15:  51%|█████     | 190/373 [00:03<00:15, 11.47batches/s]"
     ]
    },
    {
     "name": "stdout",
     "output_type": "stream",
     "text": [
      "training accuracy at 0.005288874730467796\n",
      "Validation accuracy at 0.00662927096709609\n"
     ]
    },
    {
     "name": "stderr",
     "output_type": "stream",
     "text": [
      "Epoch  5/15:  66%|██████▌   | 245/373 [00:04<00:06, 18.95batches/s]"
     ]
    },
    {
     "name": "stdout",
     "output_type": "stream",
     "text": [
      "training accuracy at 0.005288874730467796\n",
      "Validation accuracy at 0.00662927096709609\n"
     ]
    },
    {
     "name": "stderr",
     "output_type": "stream",
     "text": [
      "Epoch  5/15:  80%|████████  | 299/373 [00:05<00:02, 27.98batches/s]"
     ]
    },
    {
     "name": "stdout",
     "output_type": "stream",
     "text": [
      "training accuracy at 0.005288874730467796\n",
      "Validation accuracy at 0.00662927096709609\n"
     ]
    },
    {
     "name": "stderr",
     "output_type": "stream",
     "text": [
      "\r",
      "Epoch  5/15:  86%|████████▌ | 320/373 [00:06<00:02, 25.11batches/s]"
     ]
    },
    {
     "name": "stdout",
     "output_type": "stream",
     "text": [
      "training accuracy at 0.005288874730467796\n",
      "Validation accuracy at 0.00662927096709609\n"
     ]
    },
    {
     "name": "stderr",
     "output_type": "stream",
     "text": [
      "Epoch  5/15: 100%|██████████| 373/373 [00:07<00:00, 46.95batches/s]\n",
      "Epoch  6/15:   0%|          | 0/373 [00:00<?, ?batches/s]"
     ]
    },
    {
     "name": "stdout",
     "output_type": "stream",
     "text": [
      "training accuracy at 0.005288874730467796\n",
      "Validation accuracy at 0.00662927096709609\n"
     ]
    },
    {
     "name": "stderr",
     "output_type": "stream",
     "text": [
      "Epoch  6/15:  10%|▉         | 36/373 [00:00<03:25,  1.64batches/s]"
     ]
    },
    {
     "name": "stdout",
     "output_type": "stream",
     "text": [
      "training accuracy at 0.005288874730467796\n",
      "Validation accuracy at 0.00662927096709609\n"
     ]
    },
    {
     "name": "stderr",
     "output_type": "stream",
     "text": [
      "Epoch  6/15:  23%|██▎       | 86/373 [00:01<01:29,  3.21batches/s]"
     ]
    },
    {
     "name": "stdout",
     "output_type": "stream",
     "text": [
      "training accuracy at 0.005288874730467796\n",
      "Validation accuracy at 0.00662927096709609\n"
     ]
    },
    {
     "name": "stderr",
     "output_type": "stream",
     "text": [
      "Epoch  6/15:  37%|███▋      | 137/373 [00:02<00:38,  6.07batches/s]"
     ]
    },
    {
     "name": "stdout",
     "output_type": "stream",
     "text": [
      "training accuracy at 0.005288874730467796\n",
      "Validation accuracy at 0.00662927096709609\n"
     ]
    },
    {
     "name": "stderr",
     "output_type": "stream",
     "text": [
      "Epoch  6/15:  51%|█████     | 191/373 [00:03<00:16, 10.97batches/s]"
     ]
    },
    {
     "name": "stdout",
     "output_type": "stream",
     "text": [
      "training accuracy at 0.005288874730467796\n",
      "Validation accuracy at 0.00662927096709609\n"
     ]
    },
    {
     "name": "stderr",
     "output_type": "stream",
     "text": [
      "Epoch  6/15:  66%|██████▌   | 246/373 [00:04<00:06, 18.27batches/s]"
     ]
    },
    {
     "name": "stdout",
     "output_type": "stream",
     "text": [
      "training accuracy at 0.005288874730467796\n",
      "Validation accuracy at 0.00662927096709609\n"
     ]
    },
    {
     "name": "stderr",
     "output_type": "stream",
     "text": [
      "\r",
      "Epoch  6/15:  72%|███████▏  | 267/373 [00:05<00:05, 19.61batches/s]"
     ]
    },
    {
     "name": "stdout",
     "output_type": "stream",
     "text": [
      "training accuracy at 0.005288874730467796\n",
      "Validation accuracy at 0.00662927096709609\n"
     ]
    },
    {
     "name": "stderr",
     "output_type": "stream",
     "text": [
      "Epoch  6/15:  90%|████████▉ | 335/373 [00:06<00:01, 31.53batches/s]"
     ]
    },
    {
     "name": "stdout",
     "output_type": "stream",
     "text": [
      "training accuracy at 0.005288874730467796\n",
      "Validation accuracy at 0.00662927096709609\n"
     ]
    },
    {
     "name": "stderr",
     "output_type": "stream",
     "text": [
      "Epoch  6/15: 100%|██████████| 373/373 [00:07<00:00, 48.54batches/s]\n",
      "Epoch  7/15:   0%|          | 0/373 [00:00<?, ?batches/s]"
     ]
    },
    {
     "name": "stdout",
     "output_type": "stream",
     "text": [
      "training accuracy at 0.005288874730467796\n",
      "Validation accuracy at 0.00662927096709609\n"
     ]
    },
    {
     "name": "stderr",
     "output_type": "stream",
     "text": [
      "Epoch  7/15:  10%|▉         | 36/373 [00:00<03:15,  1.72batches/s]"
     ]
    },
    {
     "name": "stdout",
     "output_type": "stream",
     "text": [
      "training accuracy at 0.005288874730467796\n",
      "Validation accuracy at 0.00662927096709609\n"
     ]
    },
    {
     "name": "stderr",
     "output_type": "stream",
     "text": [
      "Epoch  7/15:  23%|██▎       | 86/373 [00:01<01:25,  3.37batches/s]"
     ]
    },
    {
     "name": "stdout",
     "output_type": "stream",
     "text": [
      "training accuracy at 0.005288874730467796\n",
      "Validation accuracy at 0.00662927096709609\n"
     ]
    },
    {
     "name": "stderr",
     "output_type": "stream",
     "text": [
      "Epoch  7/15:  37%|███▋      | 137/373 [00:02<00:37,  6.33batches/s]"
     ]
    },
    {
     "name": "stdout",
     "output_type": "stream",
     "text": [
      "training accuracy at 0.005288874730467796\n",
      "Validation accuracy at 0.00662927096709609\n"
     ]
    },
    {
     "name": "stderr",
     "output_type": "stream",
     "text": [
      "Epoch  7/15:  51%|█████     | 191/373 [00:03<00:16, 11.37batches/s]"
     ]
    },
    {
     "name": "stdout",
     "output_type": "stream",
     "text": [
      "training accuracy at 0.005288874730467796\n",
      "Validation accuracy at 0.00662927096709609\n"
     ]
    },
    {
     "name": "stderr",
     "output_type": "stream",
     "text": [
      "Epoch  7/15:  66%|██████▌   | 245/373 [00:04<00:06, 18.81batches/s]"
     ]
    },
    {
     "name": "stdout",
     "output_type": "stream",
     "text": [
      "training accuracy at 0.005288874730467796\n",
      "Validation accuracy at 0.00662927096709609\n"
     ]
    },
    {
     "name": "stderr",
     "output_type": "stream",
     "text": [
      "\r",
      "Epoch  7/15:  71%|███████▏  | 266/373 [00:05<00:05, 19.91batches/s]"
     ]
    },
    {
     "name": "stdout",
     "output_type": "stream",
     "text": [
      "training accuracy at 0.005288874730467796\n",
      "Validation accuracy at 0.00662927096709609\n"
     ]
    },
    {
     "name": "stderr",
     "output_type": "stream",
     "text": [
      "Epoch  7/15:  90%|█████████ | 336/373 [00:06<00:01, 32.33batches/s]"
     ]
    },
    {
     "name": "stdout",
     "output_type": "stream",
     "text": [
      "training accuracy at 0.005288874730467796\n",
      "Validation accuracy at 0.00662927096709609\n"
     ]
    },
    {
     "name": "stderr",
     "output_type": "stream",
     "text": [
      "Epoch  7/15: 100%|██████████| 373/373 [00:07<00:00, 48.27batches/s]\n",
      "Epoch  8/15:   0%|          | 0/373 [00:00<?, ?batches/s]"
     ]
    },
    {
     "name": "stdout",
     "output_type": "stream",
     "text": [
      "training accuracy at 0.005288874730467796\n",
      "Validation accuracy at 0.00662927096709609\n"
     ]
    },
    {
     "name": "stderr",
     "output_type": "stream",
     "text": [
      "Epoch  8/15:   8%|▊         | 31/373 [00:01<03:43,  1.53batches/s]"
     ]
    },
    {
     "name": "stdout",
     "output_type": "stream",
     "text": [
      "training accuracy at 0.005288874730467796\n",
      "Validation accuracy at 0.00662927096709609\n"
     ]
    },
    {
     "name": "stderr",
     "output_type": "stream",
     "text": [
      "Epoch  8/15:  23%|██▎       | 84/373 [00:02<01:35,  3.02batches/s]"
     ]
    },
    {
     "name": "stdout",
     "output_type": "stream",
     "text": [
      "training accuracy at 0.005288874730467796\n",
      "Validation accuracy at 0.00662927096709609\n"
     ]
    },
    {
     "name": "stderr",
     "output_type": "stream",
     "text": [
      "Epoch  8/15:  36%|███▋      | 136/373 [00:03<00:41,  5.73batches/s]"
     ]
    },
    {
     "name": "stdout",
     "output_type": "stream",
     "text": [
      "training accuracy at 0.005288874730467796\n",
      "Validation accuracy at 0.00662927096709609\n"
     ]
    },
    {
     "name": "stderr",
     "output_type": "stream",
     "text": [
      "Epoch  8/15:  51%|█████     | 189/373 [00:04<00:17, 10.26batches/s]"
     ]
    },
    {
     "name": "stdout",
     "output_type": "stream",
     "text": [
      "training accuracy at 0.005288874730467796\n",
      "Validation accuracy at 0.00662927096709609\n"
     ]
    },
    {
     "name": "stderr",
     "output_type": "stream",
     "text": [
      "Epoch  8/15:  65%|██████▌   | 243/373 [00:05<00:07, 17.12batches/s]"
     ]
    },
    {
     "name": "stdout",
     "output_type": "stream",
     "text": [
      "training accuracy at 0.005288874730467796\n",
      "Validation accuracy at 0.00662927096709609\n"
     ]
    },
    {
     "name": "stderr",
     "output_type": "stream",
     "text": [
      "Epoch  8/15:  80%|████████  | 299/373 [00:06<00:02, 25.85batches/s]"
     ]
    },
    {
     "name": "stdout",
     "output_type": "stream",
     "text": [
      "training accuracy at 0.005288874730467796\n",
      "Validation accuracy at 0.00662927096709609\n"
     ]
    },
    {
     "name": "stderr",
     "output_type": "stream",
     "text": [
      "\r",
      "Epoch  8/15:  86%|████████▌ | 320/373 [00:07<00:02, 25.01batches/s]"
     ]
    },
    {
     "name": "stdout",
     "output_type": "stream",
     "text": [
      "training accuracy at 0.005288874730467796\n",
      "Validation accuracy at 0.00662927096709609\n"
     ]
    },
    {
     "name": "stderr",
     "output_type": "stream",
     "text": [
      "Epoch  8/15: 100%|██████████| 373/373 [00:08<00:00, 45.48batches/s]\n",
      "Epoch  9/15:   0%|          | 0/373 [00:00<?, ?batches/s]"
     ]
    },
    {
     "name": "stdout",
     "output_type": "stream",
     "text": [
      "training accuracy at 0.005288874730467796\n",
      "Validation accuracy at 0.00662927096709609\n"
     ]
    },
    {
     "name": "stderr",
     "output_type": "stream",
     "text": [
      "Epoch  9/15:  10%|▉         | 36/373 [00:00<03:24,  1.65batches/s]"
     ]
    },
    {
     "name": "stdout",
     "output_type": "stream",
     "text": [
      "training accuracy at 0.005288874730467796\n",
      "Validation accuracy at 0.00662927096709609\n"
     ]
    },
    {
     "name": "stderr",
     "output_type": "stream",
     "text": [
      "Epoch  9/15:  23%|██▎       | 86/373 [00:02<01:29,  3.21batches/s]"
     ]
    },
    {
     "name": "stdout",
     "output_type": "stream",
     "text": [
      "training accuracy at 0.005288874730467796\n",
      "Validation accuracy at 0.00662927096709609\n"
     ]
    },
    {
     "name": "stderr",
     "output_type": "stream",
     "text": [
      "Epoch  9/15:  37%|███▋      | 137/373 [00:03<00:39,  5.97batches/s]"
     ]
    },
    {
     "name": "stdout",
     "output_type": "stream",
     "text": [
      "training accuracy at 0.005288874730467796\n",
      "Validation accuracy at 0.00662927096709609\n"
     ]
    },
    {
     "name": "stderr",
     "output_type": "stream",
     "text": [
      "Epoch  9/15:  51%|█████     | 191/373 [00:04<00:16, 10.80batches/s]"
     ]
    },
    {
     "name": "stdout",
     "output_type": "stream",
     "text": [
      "training accuracy at 0.005288874730467796\n",
      "Validation accuracy at 0.00662927096709609\n"
     ]
    },
    {
     "name": "stderr",
     "output_type": "stream",
     "text": [
      "Epoch  9/15:  66%|██████▌   | 245/373 [00:05<00:07, 17.83batches/s]"
     ]
    },
    {
     "name": "stdout",
     "output_type": "stream",
     "text": [
      "training accuracy at 0.005288874730467796\n",
      "Validation accuracy at 0.00662927096709609\n"
     ]
    },
    {
     "name": "stderr",
     "output_type": "stream",
     "text": [
      "Epoch  9/15:  80%|████████  | 299/373 [00:06<00:02, 26.23batches/s]"
     ]
    },
    {
     "name": "stdout",
     "output_type": "stream",
     "text": [
      "training accuracy at 0.005288874730467796\n",
      "Validation accuracy at 0.00662927096709609\n"
     ]
    },
    {
     "name": "stderr",
     "output_type": "stream",
     "text": [
      "\r",
      "Epoch  9/15:  86%|████████▌ | 320/373 [00:07<00:02, 25.33batches/s]"
     ]
    },
    {
     "name": "stdout",
     "output_type": "stream",
     "text": [
      "training accuracy at 0.005288874730467796\n",
      "Validation accuracy at 0.00662927096709609\n"
     ]
    },
    {
     "name": "stderr",
     "output_type": "stream",
     "text": [
      "Epoch  9/15: 100%|██████████| 373/373 [00:08<00:00, 45.89batches/s]\n",
      "Epoch 10/15:   0%|          | 0/373 [00:00<?, ?batches/s]"
     ]
    },
    {
     "name": "stdout",
     "output_type": "stream",
     "text": [
      "training accuracy at 0.005288874730467796\n",
      "Validation accuracy at 0.00662927096709609\n"
     ]
    },
    {
     "name": "stderr",
     "output_type": "stream",
     "text": [
      "Epoch 10/15:  10%|▉         | 36/373 [00:00<03:13,  1.74batches/s]"
     ]
    },
    {
     "name": "stdout",
     "output_type": "stream",
     "text": [
      "training accuracy at 0.005288874730467796\n",
      "Validation accuracy at 0.00662927096709609\n"
     ]
    },
    {
     "name": "stderr",
     "output_type": "stream",
     "text": [
      "Epoch 10/15:  23%|██▎       | 86/373 [00:01<01:24,  3.40batches/s]"
     ]
    },
    {
     "name": "stdout",
     "output_type": "stream",
     "text": [
      "training accuracy at 0.005288874730467796\n",
      "Validation accuracy at 0.00662927096709609\n"
     ]
    },
    {
     "name": "stderr",
     "output_type": "stream",
     "text": [
      "Epoch 10/15:  37%|███▋      | 137/373 [00:02<00:37,  6.37batches/s]"
     ]
    },
    {
     "name": "stdout",
     "output_type": "stream",
     "text": [
      "training accuracy at 0.005288874730467796\n",
      "Validation accuracy at 0.00662927096709609\n"
     ]
    },
    {
     "name": "stderr",
     "output_type": "stream",
     "text": [
      "Epoch 10/15:  51%|█████▏    | 192/373 [00:03<00:15, 11.34batches/s]"
     ]
    },
    {
     "name": "stdout",
     "output_type": "stream",
     "text": [
      "training accuracy at 0.005288874730467796\n",
      "Validation accuracy at 0.00662927096709609\n"
     ]
    },
    {
     "name": "stderr",
     "output_type": "stream",
     "text": [
      "Epoch 10/15:  66%|██████▌   | 247/373 [00:04<00:06, 18.72batches/s]"
     ]
    },
    {
     "name": "stdout",
     "output_type": "stream",
     "text": [
      "training accuracy at 0.005288874730467796\n",
      "Validation accuracy at 0.00662927096709609\n"
     ]
    },
    {
     "name": "stderr",
     "output_type": "stream",
     "text": [
      "Epoch 10/15:  80%|███████▉  | 298/373 [00:06<00:02, 27.08batches/s]"
     ]
    },
    {
     "name": "stdout",
     "output_type": "stream",
     "text": [
      "training accuracy at 0.005288874730467796\n",
      "Validation accuracy at 0.00662927096709609\n"
     ]
    },
    {
     "name": "stderr",
     "output_type": "stream",
     "text": [
      "\r",
      "Epoch 10/15:  85%|████████▌ | 318/373 [00:07<00:02, 24.71batches/s]"
     ]
    },
    {
     "name": "stdout",
     "output_type": "stream",
     "text": [
      "training accuracy at 0.005288874730467796\n",
      "Validation accuracy at 0.00662927096709609\n"
     ]
    },
    {
     "name": "stderr",
     "output_type": "stream",
     "text": [
      "Epoch 10/15: 100%|██████████| 373/373 [00:08<00:00, 46.11batches/s]\n",
      "Epoch 11/15:   0%|          | 0/373 [00:00<?, ?batches/s]"
     ]
    },
    {
     "name": "stdout",
     "output_type": "stream",
     "text": [
      "training accuracy at 0.005288874730467796\n",
      "Validation accuracy at 0.00662927096709609\n"
     ]
    },
    {
     "name": "stderr",
     "output_type": "stream",
     "text": [
      "Epoch 11/15:   9%|▉         | 35/373 [00:01<03:49,  1.47batches/s]"
     ]
    },
    {
     "name": "stdout",
     "output_type": "stream",
     "text": [
      "training accuracy at 0.005288874730467796\n",
      "Validation accuracy at 0.00662927096709609\n"
     ]
    },
    {
     "name": "stderr",
     "output_type": "stream",
     "text": [
      "Epoch 11/15:  23%|██▎       | 85/373 [00:02<01:39,  2.90batches/s]"
     ]
    },
    {
     "name": "stdout",
     "output_type": "stream",
     "text": [
      "training accuracy at 0.005288874730467796\n",
      "Validation accuracy at 0.00662927096709609\n"
     ]
    },
    {
     "name": "stderr",
     "output_type": "stream",
     "text": [
      "Epoch 11/15:  36%|███▌      | 133/373 [00:03<00:43,  5.48batches/s]"
     ]
    },
    {
     "name": "stdout",
     "output_type": "stream",
     "text": [
      "training accuracy at 0.005288874730467796\n",
      "Validation accuracy at 0.00662927096709609\n"
     ]
    },
    {
     "name": "stderr",
     "output_type": "stream",
     "text": [
      "Epoch 11/15:  49%|████▉     | 184/373 [00:04<00:19,  9.80batches/s]"
     ]
    },
    {
     "name": "stdout",
     "output_type": "stream",
     "text": [
      "training accuracy at 0.005288874730467796\n",
      "Validation accuracy at 0.00662927096709609\n"
     ]
    },
    {
     "name": "stderr",
     "output_type": "stream",
     "text": [
      "Epoch 11/15:  63%|██████▎   | 236/373 [00:05<00:08, 16.27batches/s]"
     ]
    },
    {
     "name": "stdout",
     "output_type": "stream",
     "text": [
      "training accuracy at 0.005288874730467796\n",
      "Validation accuracy at 0.00662927096709609\n"
     ]
    },
    {
     "name": "stderr",
     "output_type": "stream",
     "text": [
      "Epoch 11/15:  78%|███████▊  | 291/373 [00:06<00:03, 24.42batches/s]"
     ]
    },
    {
     "name": "stdout",
     "output_type": "stream",
     "text": [
      "training accuracy at 0.005288874730467796\n",
      "Validation accuracy at 0.00662927096709609\n"
     ]
    },
    {
     "name": "stderr",
     "output_type": "stream",
     "text": [
      "Epoch 11/15:  92%|█████████▏| 342/373 [00:07<00:00, 32.18batches/s]"
     ]
    },
    {
     "name": "stdout",
     "output_type": "stream",
     "text": [
      "training accuracy at 0.005288874730467796\n",
      "Validation accuracy at 0.00662927096709609\n"
     ]
    },
    {
     "name": "stderr",
     "output_type": "stream",
     "text": [
      "Epoch 11/15: 100%|██████████| 373/373 [00:08<00:00, 44.22batches/s]\n",
      "Epoch 12/15:   0%|          | 0/373 [00:00<?, ?batches/s]"
     ]
    },
    {
     "name": "stdout",
     "output_type": "stream",
     "text": [
      "training accuracy at 0.005288874730467796\n",
      "Validation accuracy at 0.00662927096709609\n"
     ]
    },
    {
     "name": "stderr",
     "output_type": "stream",
     "text": [
      "Epoch 12/15:   9%|▉         | 34/373 [00:01<03:34,  1.58batches/s]"
     ]
    },
    {
     "name": "stdout",
     "output_type": "stream",
     "text": [
      "training accuracy at 0.005288874730467796\n",
      "Validation accuracy at 0.00662927096709609\n"
     ]
    },
    {
     "name": "stderr",
     "output_type": "stream",
     "text": [
      "Epoch 12/15:  23%|██▎       | 85/373 [00:02<01:32,  3.11batches/s]"
     ]
    },
    {
     "name": "stdout",
     "output_type": "stream",
     "text": [
      "training accuracy at 0.005288874730467796\n",
      "Validation accuracy at 0.00662927096709609\n"
     ]
    },
    {
     "name": "stderr",
     "output_type": "stream",
     "text": [
      "Epoch 12/15:  36%|███▌      | 135/373 [00:03<00:40,  5.86batches/s]"
     ]
    },
    {
     "name": "stdout",
     "output_type": "stream",
     "text": [
      "training accuracy at 0.005288874730467796\n",
      "Validation accuracy at 0.00662927096709609\n"
     ]
    },
    {
     "name": "stderr",
     "output_type": "stream",
     "text": [
      "Epoch 12/15:  50%|█████     | 187/373 [00:04<00:17, 10.47batches/s]"
     ]
    },
    {
     "name": "stdout",
     "output_type": "stream",
     "text": [
      "training accuracy at 0.005288874730467796\n",
      "Validation accuracy at 0.00662927096709609\n"
     ]
    },
    {
     "name": "stderr",
     "output_type": "stream",
     "text": [
      "Epoch 12/15:  64%|██████▍   | 239/373 [00:05<00:07, 17.05batches/s]"
     ]
    },
    {
     "name": "stdout",
     "output_type": "stream",
     "text": [
      "training accuracy at 0.005288874730467796\n",
      "Validation accuracy at 0.00662927096709609\n"
     ]
    },
    {
     "name": "stderr",
     "output_type": "stream",
     "text": [
      "Epoch 12/15:  78%|███████▊  | 292/373 [00:06<00:03, 24.81batches/s]"
     ]
    },
    {
     "name": "stdout",
     "output_type": "stream",
     "text": [
      "training accuracy at 0.005288874730467796\n",
      "Validation accuracy at 0.00662927096709609\n"
     ]
    },
    {
     "name": "stderr",
     "output_type": "stream",
     "text": [
      "Epoch 12/15:  93%|█████████▎| 347/373 [00:07<00:00, 32.52batches/s]"
     ]
    },
    {
     "name": "stdout",
     "output_type": "stream",
     "text": [
      "training accuracy at 0.005288874730467796\n",
      "Validation accuracy at 0.00662927096709609\n"
     ]
    },
    {
     "name": "stderr",
     "output_type": "stream",
     "text": [
      "Epoch 12/15: 100%|██████████| 373/373 [00:08<00:00, 44.46batches/s]\n",
      "Epoch 13/15:   0%|          | 0/373 [00:00<?, ?batches/s]"
     ]
    },
    {
     "name": "stdout",
     "output_type": "stream",
     "text": [
      "training accuracy at 0.005288874730467796\n",
      "Validation accuracy at 0.00662927096709609\n"
     ]
    },
    {
     "name": "stderr",
     "output_type": "stream",
     "text": [
      "Epoch 13/15:   9%|▉         | 34/373 [00:00<03:33,  1.59batches/s]"
     ]
    },
    {
     "name": "stdout",
     "output_type": "stream",
     "text": [
      "training accuracy at 0.005288874730467796\n",
      "Validation accuracy at 0.00662927096709609\n"
     ]
    },
    {
     "name": "stderr",
     "output_type": "stream",
     "text": [
      "Epoch 13/15:  23%|██▎       | 85/373 [00:02<01:32,  3.12batches/s]"
     ]
    },
    {
     "name": "stdout",
     "output_type": "stream",
     "text": [
      "training accuracy at 0.005288874730467796\n",
      "Validation accuracy at 0.00662927096709609\n"
     ]
    },
    {
     "name": "stderr",
     "output_type": "stream",
     "text": [
      "Epoch 13/15:  36%|███▋      | 136/373 [00:03<00:40,  5.89batches/s]"
     ]
    },
    {
     "name": "stdout",
     "output_type": "stream",
     "text": [
      "training accuracy at 0.005288874730467796\n",
      "Validation accuracy at 0.00662927096709609\n"
     ]
    },
    {
     "name": "stderr",
     "output_type": "stream",
     "text": [
      "Epoch 13/15:  51%|█████     | 189/373 [00:04<00:17, 10.63batches/s]"
     ]
    },
    {
     "name": "stdout",
     "output_type": "stream",
     "text": [
      "training accuracy at 0.005288874730467796\n",
      "Validation accuracy at 0.00662927096709609\n"
     ]
    },
    {
     "name": "stderr",
     "output_type": "stream",
     "text": [
      "Epoch 13/15:  65%|██████▌   | 244/373 [00:05<00:07, 17.57batches/s]"
     ]
    },
    {
     "name": "stdout",
     "output_type": "stream",
     "text": [
      "training accuracy at 0.005288874730467796\n",
      "Validation accuracy at 0.00662927096709609\n"
     ]
    },
    {
     "name": "stderr",
     "output_type": "stream",
     "text": [
      "Epoch 13/15:  80%|███████▉  | 298/373 [00:06<00:02, 26.38batches/s]"
     ]
    },
    {
     "name": "stdout",
     "output_type": "stream",
     "text": [
      "training accuracy at 0.005288874730467796\n",
      "Validation accuracy at 0.00662927096709609\n"
     ]
    },
    {
     "name": "stderr",
     "output_type": "stream",
     "text": [
      "\r",
      "Epoch 13/15:  86%|████████▌ | 319/373 [00:07<00:02, 24.74batches/s]"
     ]
    },
    {
     "name": "stdout",
     "output_type": "stream",
     "text": [
      "training accuracy at 0.005288874730467796\n",
      "Validation accuracy at 0.00662927096709609\n"
     ]
    },
    {
     "name": "stderr",
     "output_type": "stream",
     "text": [
      "Epoch 13/15: 100%|██████████| 373/373 [00:08<00:00, 46.01batches/s]\n",
      "Epoch 14/15:   0%|          | 0/373 [00:00<?, ?batches/s]"
     ]
    },
    {
     "name": "stdout",
     "output_type": "stream",
     "text": [
      "training accuracy at 0.005288874730467796\n",
      "Validation accuracy at 0.00662927096709609\n"
     ]
    },
    {
     "name": "stderr",
     "output_type": "stream",
     "text": [
      "Epoch 14/15:   9%|▉         | 35/373 [00:00<03:22,  1.67batches/s]"
     ]
    },
    {
     "name": "stdout",
     "output_type": "stream",
     "text": [
      "training accuracy at 0.005288874730467796\n",
      "Validation accuracy at 0.00662927096709609\n"
     ]
    },
    {
     "name": "stderr",
     "output_type": "stream",
     "text": [
      "Epoch 14/15:  23%|██▎       | 86/373 [00:01<01:28,  3.26batches/s]"
     ]
    },
    {
     "name": "stdout",
     "output_type": "stream",
     "text": [
      "training accuracy at 0.005288874730467796\n",
      "Validation accuracy at 0.00662927096709609\n"
     ]
    },
    {
     "name": "stderr",
     "output_type": "stream",
     "text": [
      "Epoch 14/15:  37%|███▋      | 137/373 [00:02<00:38,  6.15batches/s]"
     ]
    },
    {
     "name": "stdout",
     "output_type": "stream",
     "text": [
      "training accuracy at 0.005288874730467796\n",
      "Validation accuracy at 0.00662927096709609\n"
     ]
    },
    {
     "name": "stderr",
     "output_type": "stream",
     "text": [
      "Epoch 14/15:  51%|█████     | 191/373 [00:03<00:16, 11.02batches/s]"
     ]
    },
    {
     "name": "stdout",
     "output_type": "stream",
     "text": [
      "training accuracy at 0.005288874730467796\n",
      "Validation accuracy at 0.00662927096709609\n"
     ]
    },
    {
     "name": "stderr",
     "output_type": "stream",
     "text": [
      "Epoch 14/15:  66%|██████▌   | 246/373 [00:04<00:06, 18.18batches/s]"
     ]
    },
    {
     "name": "stdout",
     "output_type": "stream",
     "text": [
      "training accuracy at 0.005288874730467796\n",
      "Validation accuracy at 0.00662927096709609\n"
     ]
    },
    {
     "name": "stderr",
     "output_type": "stream",
     "text": [
      "\r",
      "Epoch 14/15:  72%|███████▏  | 267/373 [00:05<00:05, 19.55batches/s]"
     ]
    },
    {
     "name": "stdout",
     "output_type": "stream",
     "text": [
      "training accuracy at 0.005288874730467796\n",
      "Validation accuracy at 0.00662927096709609\n"
     ]
    },
    {
     "name": "stderr",
     "output_type": "stream",
     "text": [
      "Epoch 14/15:  90%|█████████ | 336/373 [00:06<00:01, 31.40batches/s]"
     ]
    },
    {
     "name": "stdout",
     "output_type": "stream",
     "text": [
      "training accuracy at 0.005288874730467796\n",
      "Validation accuracy at 0.00662927096709609\n"
     ]
    },
    {
     "name": "stderr",
     "output_type": "stream",
     "text": [
      "Epoch 14/15: 100%|██████████| 373/373 [00:07<00:00, 47.43batches/s]\n",
      "Epoch 15/15:   0%|          | 0/373 [00:00<?, ?batches/s]"
     ]
    },
    {
     "name": "stdout",
     "output_type": "stream",
     "text": [
      "training accuracy at 0.005288874730467796\n",
      "Validation accuracy at 0.00662927096709609\n"
     ]
    },
    {
     "name": "stderr",
     "output_type": "stream",
     "text": [
      "Epoch 15/15:   9%|▉         | 35/373 [00:00<03:22,  1.67batches/s]"
     ]
    },
    {
     "name": "stdout",
     "output_type": "stream",
     "text": [
      "training accuracy at 0.005288874730467796\n",
      "Validation accuracy at 0.00662927096709609\n"
     ]
    },
    {
     "name": "stderr",
     "output_type": "stream",
     "text": [
      "Epoch 15/15:  22%|██▏       | 83/373 [00:01<01:28,  3.27batches/s]"
     ]
    },
    {
     "name": "stdout",
     "output_type": "stream",
     "text": [
      "training accuracy at 0.005288874730467796\n",
      "Validation accuracy at 0.00662927096709609\n"
     ]
    },
    {
     "name": "stderr",
     "output_type": "stream",
     "text": [
      "Epoch 15/15:  36%|███▌      | 135/373 [00:02<00:38,  6.19batches/s]"
     ]
    },
    {
     "name": "stdout",
     "output_type": "stream",
     "text": [
      "training accuracy at 0.005288874730467796\n",
      "Validation accuracy at 0.00662927096709609\n"
     ]
    },
    {
     "name": "stderr",
     "output_type": "stream",
     "text": [
      "Epoch 15/15:  50%|█████     | 188/373 [00:03<00:16, 11.07batches/s]"
     ]
    },
    {
     "name": "stdout",
     "output_type": "stream",
     "text": [
      "training accuracy at 0.005288874730467796\n",
      "Validation accuracy at 0.00662927096709609\n"
     ]
    },
    {
     "name": "stderr",
     "output_type": "stream",
     "text": [
      "Epoch 15/15:  64%|██████▍   | 239/373 [00:05<00:07, 17.97batches/s]"
     ]
    },
    {
     "name": "stdout",
     "output_type": "stream",
     "text": [
      "training accuracy at 0.005288874730467796\n",
      "Validation accuracy at 0.00662927096709609\n"
     ]
    },
    {
     "name": "stderr",
     "output_type": "stream",
     "text": [
      "Epoch 15/15:  78%|███████▊  | 291/373 [00:06<00:03, 26.08batches/s]"
     ]
    },
    {
     "name": "stdout",
     "output_type": "stream",
     "text": [
      "training accuracy at 0.005288874730467796\n",
      "Validation accuracy at 0.00662927096709609\n"
     ]
    },
    {
     "name": "stderr",
     "output_type": "stream",
     "text": [
      "Epoch 15/15:  93%|█████████▎| 346/373 [00:07<00:00, 33.52batches/s]"
     ]
    },
    {
     "name": "stdout",
     "output_type": "stream",
     "text": [
      "training accuracy at 0.005288874730467796\n",
      "Validation accuracy at 0.00662927096709609\n"
     ]
    },
    {
     "name": "stderr",
     "output_type": "stream",
     "text": [
      "Epoch 15/15: 100%|██████████| 373/373 [00:08<00:00, 45.64batches/s]"
     ]
    },
    {
     "name": "stdout",
     "output_type": "stream",
     "text": [
      "training accuracy at 0.005288874730467796\n",
      "Validation accuracy at 0.00662927096709609\n"
     ]
    },
    {
     "name": "stderr",
     "output_type": "stream",
     "text": [
      "\n"
     ]
    },
    {
     "data": {
      "image/png": "[encoded data removed]",
      "text/plain": [
       "<matplotlib.figure.Figure at 0x11096b8d0>"
      ]
     },
     "metadata": {},
     "output_type": "display_data"
    },
    {
     "name": "stdout",
     "output_type": "stream",
     "text": [
      "Validation accuracy at 0.00662927096709609\n"
     ]
    }
   ],
   "source": [
    "import tensorflow as tf\n",
    "from tqdm import tqdm\n",
    "import math\n",
    "import matplotlib.pyplot as plt\n",
    "\n",
    "# Parameters\n",
    "training_epochs = 15\n",
    "batch_size = 100\n",
    "learning_rate = 0.001\n",
    "\n",
    "### DON'T MODIFY ANYTHING BELOW ###\n",
    "# Gradient Descent\n",
    "optimizer = tf.train.GradientDescentOptimizer(learning_rate).minimize(loss)    \n",
    "\n",
    "# The accuracy measured against the validation set\n",
    "validation_accuracy = 0.0\n",
    "\n",
    "# Measurements use for graphing loss and accuracy\n",
    "log_batch_step = 50\n",
    "batches = []\n",
    "loss_batch = []\n",
    "train_acc_batch = []\n",
    "valid_acc_batch = []\n",
    "\n",
    "\n",
    "\n",
    "\n",
    "# Initializing the variables\n",
    "init = tf.initialize_all_variables()\n",
    "\n",
    "# Launch the graph\n",
    "\n",
    "sess = tf.Session()\n",
    "sess.run(init)\n",
    "batch_count = int(math.ceil(len(train_features)/batch_size))\n",
    "# Training cycle\n",
    "for epoch_i in range(training_epochs):\n",
    "\n",
    "    # Progress bar\n",
    "    batches_pbar = tqdm(range(batch_count), desc='Epoch {:>2}/{}'.format(epoch_i+1, training_epochs),unit='batches')\n",
    "\n",
    "    # The training cycle\n",
    "    for batch_i in batches_pbar:\n",
    "        # Get a batch of training features and labels\n",
    "        batch_start = batch_i*batch_size\n",
    "        batch_features = train_features[batch_start:batch_start+batch_size]\n",
    "        batch_labels = train_labels[batch_start:batch_start + batch_size]\n",
    "\n",
    "        # Run optimizer and get loss\n",
    "        _, l = sess.run([optimizer, loss],feed_dict= {features: batch_features,labels: batch_labels})\n",
    "\n",
    "        # Log every 50 batches\n",
    "        if not batch_i % log_batch_step:\n",
    "            # Calculate Training and Validation accuracy\n",
    "            training_accuracy = sess.run(accuracy, feed_dict=train_dict)\n",
    "            validation_accuracy = sess.run(accuracy, feed_dict=valid_dict)\n",
    "\n",
    "            # Log batches\n",
    "            previous_batch = batches[-1] if batches else 0\n",
    "            batches.append(log_batch_step + previous_batch)\n",
    "            loss_batch.append(l)\n",
    "            train_acc_batch.append(training_accuracy)\n",
    "            print('training accuracy at {}'.format(training_accuracy))\n",
    "            valid_acc_batch.append(validation_accuracy)\n",
    "            print('Validation accuracy at {}'.format(validation_accuracy))\n",
    "\n",
    "    # Check accuracy against testing data #change later to check against validation data\n",
    "    validation_accuracy = sess.run(accuracy, feed_dict=valid_dict)\n",
    "\n",
    "sess.close()\n",
    "        \n",
    "loss_plot = plt.subplot(211)\n",
    "loss_plot.set_title('Loss')\n",
    "loss_plot.plot(batches, loss_batch, 'g')\n",
    "loss_plot.set_xlim([batches[0], batches[-1]])\n",
    "acc_plot = plt.subplot(212)\n",
    "acc_plot.set_title('Accuracy')\n",
    "\n",
    "acc_plot.plot(batches, train_acc_batch, 'r', label='Training Accuracy')\n",
    "acc_plot.plot(batches, valid_acc_batch, 'b', label='Validation Accuracy')\n",
    "acc_plot.set_ylim([0, 1.0])\n",
    "acc_plot.set_xlim([batches[0], batches[-1]])\n",
    "acc_plot.legend(loc=4)\n",
    "plt.tight_layout()\n",
    "plt.show()\n",
    "\n",
    "print('Validation accuracy at {}'.format(validation_accuracy))\n",
    "\n",
    "        \n",
    "\n",
    "\n",
    "\n",
    "\n",
    "\n",
    "\n",
    "\n",
    "\n",
    "\n",
    "\n",
    "\n",
    "\n",
    "\n",
    "\n",
    "\n"
   ]
  },
  {
   "cell_type": "markdown",
   "metadata": {},
   "source": [
    "### Question 1 \n",
    "\n",
    "_Describe the techniques used to preprocess the data._"
   ]
  },
  {
   "cell_type": "markdown",
   "metadata": {},
   "source": [
    "**Answer:**"
   ]
  },
  {
   "cell_type": "code",
   "execution_count": 13,
   "metadata": {
    "collapsed": true
   },
   "outputs": [],
   "source": [
    "### Generate data additional (if you want to!)\n",
    "### and split the data into training/validation/testing sets here.\n",
    "### Feel free to use as many code cells as needed."
   ]
  },
  {
   "cell_type": "markdown",
   "metadata": {},
   "source": [
    "### Question 2\n",
    "\n",
    "_Describe how you set up the training, validation and testing data for your model. If you generated additional data, why?_"
   ]
  },
  {
   "cell_type": "markdown",
   "metadata": {},
   "source": [
    "**Answer:**"
   ]
  },
  {
   "cell_type": "code",
   "execution_count": 14,
   "metadata": {
    "collapsed": true
   },
   "outputs": [],
   "source": [
    "### Define your architecture here.\n",
    "### Feel free to use as many code cells as needed."
   ]
  },
  {
   "cell_type": "markdown",
   "metadata": {},
   "source": [
    "### Question 3\n",
    "\n",
    "_What does your final architecture look like? (Type of model, layers, sizes, connectivity, etc.)  For reference on how to build a deep neural network using TensorFlow, see [Deep Neural Network in TensorFlow\n",
    "](https://classroom.udacity.com/nanodegrees/nd013/parts/fbf77062-5703-404e-b60c-95b78b2f3f9e/modules/6df7ae49-c61c-4bb2-a23e-6527e69209ec/lessons/b516a270-8600-4f93-a0a3-20dfeabe5da6/concepts/83a3a2a2-a9bd-4b7b-95b0-eb924ab14432) from the classroom._\n"
   ]
  },
  {
   "cell_type": "markdown",
   "metadata": {},
   "source": [
    "**Answer:**"
   ]
  },
  {
   "cell_type": "code",
   "execution_count": 15,
   "metadata": {
    "collapsed": true
   },
   "outputs": [],
   "source": [
    "### Train your model here.\n",
    "### Feel free to use as many code cells as needed."
   ]
  },
  {
   "cell_type": "markdown",
   "metadata": {},
   "source": [
    "### Question 4\n",
    "\n",
    "_How did you train your model? (Type of optimizer, batch size, epochs, hyperparameters, etc.)_\n"
   ]
  },
  {
   "cell_type": "markdown",
   "metadata": {},
   "source": [
    "**Answer:**"
   ]
  },
  {
   "cell_type": "markdown",
   "metadata": {},
   "source": [
    "### Question 5\n",
    "\n",
    "\n",
    "_What approach did you take in coming up with a solution to this problem?_"
   ]
  },
  {
   "cell_type": "markdown",
   "metadata": {},
   "source": [
    "**Answer:**"
   ]
  },
  {
   "cell_type": "markdown",
   "metadata": {},
   "source": [
    "---\n",
    "\n",
    "## Step 3: Test a Model on New Images\n",
    "\n",
    "Take several pictures of traffic signs that you find on the web or around you (at least five), and run them through your classifier on your computer to produce example results. The classifier might not recognize some local signs but it could prove interesting nonetheless.\n",
    "\n",
    "You may find `signnames.csv` useful as it contains mappings from the class id (integer) to the actual sign name."
   ]
  },
  {
   "cell_type": "markdown",
   "metadata": {},
   "source": [
    "### Implementation\n",
    "\n",
    "Use the code cell (or multiple code cells, if necessary) to implement the first step of your project. Once you have completed your implementation and are satisfied with the results, be sure to thoroughly answer the questions that follow."
   ]
  },
  {
   "cell_type": "code",
   "execution_count": 16,
   "metadata": {
    "collapsed": true
   },
   "outputs": [],
   "source": [
    "### Load the images and plot them here.\n",
    "### Feel free to use as many code cells as needed."
   ]
  },
  {
   "cell_type": "markdown",
   "metadata": {},
   "source": [
    "### Question 6\n",
    "\n",
    "_Choose five candidate images of traffic signs and provide them in the report. Are there any particular qualities of the image(s) that might make classification difficult? It would be helpful to plot the images in the notebook._\n",
    "\n"
   ]
  },
  {
   "cell_type": "markdown",
   "metadata": {},
   "source": [
    "**Answer:**"
   ]
  },
  {
   "cell_type": "code",
   "execution_count": 17,
   "metadata": {
    "collapsed": true
   },
   "outputs": [],
   "source": [
    "### Run the predictions here.\n",
    "### Feel free to use as many code cells as needed."
   ]
  },
  {
   "cell_type": "markdown",
   "metadata": {},
   "source": [
    "### Question 7\n",
    "\n",
    "_Is your model able to perform equally well on captured pictures or a live camera stream when compared to testing on the dataset?_\n"
   ]
  },
  {
   "cell_type": "markdown",
   "metadata": {},
   "source": [
    "**Answer:**"
   ]
  },
  {
   "cell_type": "code",
   "execution_count": 18,
   "metadata": {
    "collapsed": true
   },
   "outputs": [],
   "source": [
    "### Visualize the softmax probabilities here.\n",
    "### Feel free to use as many code cells as needed."
   ]
  },
  {
   "cell_type": "markdown",
   "metadata": {},
   "source": [
    "### Question 8\n",
    "\n",
    "*Use the model's softmax probabilities to visualize the **certainty** of its predictions, [`tf.nn.top_k`](https://www.tensorflow.org/versions/r0.11/api_docs/python/nn.html#top_k) could prove helpful here. Which predictions is the model certain of? Uncertain? If the model was incorrect in its initial prediction, does the correct prediction appear in the top k? (k should be 5 at most)*\n"
   ]
  },
  {
   "cell_type": "markdown",
   "metadata": {},
   "source": [
    "**Answer:**"
   ]
  },
  {
   "cell_type": "markdown",
   "metadata": {},
   "source": [
    "### Question 9\n",
    "_If necessary, provide documentation for how an interface was built for your model to load and classify newly-acquired images._\n"
   ]
  },
  {
   "cell_type": "markdown",
   "metadata": {},
   "source": [
    "**Answer:**"
   ]
  },
  {
   "cell_type": "markdown",
   "metadata": {},
   "source": [
    "> **Note**: Once you have completed all of the code implementations and successfully answered each question above, you may finalize your work by exporting the iPython Notebook as an HTML document. You can do this by using the menu above and navigating to  \\n\",\n",
    "    \"**File -> Download as -> HTML (.html)**. Include the finished document along with this notebook as your submission."
   ]
  },
  {
   "cell_type": "code",
   "execution_count": null,
   "metadata": {
    "collapsed": true
   },
   "outputs": [],
   "source": []
  }
 ],
 "metadata": {
  "anaconda-cloud": {},
  "kernelspec": {
   "display_name": "Python [CarND-TensorFlow-L2]",
   "language": "python",
   "name": "Python [CarND-TensorFlow-L2]"
  },
  "language_info": {
   "codemirror_mode": {
    "name": "ipython",
    "version": 3
   },
   "file_extension": ".py",
   "mimetype": "text/x-python",
   "name": "python",
   "nbconvert_exporter": "python",
   "pygments_lexer": "ipython3",
   "version": "3.5.2"
  }
 },
 "nbformat": 4,
 "nbformat_minor": 1
}
